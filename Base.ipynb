#Importando bibliotecas
import cv2
import mediapipe as mp
import numpy as np
from math import acos, degrees
import time
from time import gmtime, strftime, localtime
import matplotlib.pyplot as plt
from collections import deque
import imageio.v3 as iio

def calcularPuntoAngle(a, b):
    x1 = int(results.pose_landmarks.landmark[a].x * width)
    y1 = int(results.pose_landmarks.landmark[a].y * height)
    
    x2 = int(results.pose_landmarks.landmark[b].x * width)
    y2 = int(results.pose_landmarks.landmark[b].y * height)
    
    p1 = np.array([x1, y1])
    p2 = np.array([x2, y2])
    
    if((x2>=x1) & (y2>=y1)):
        p3 = np.array([x2, y1])
        contours = np.array([[x1, y1], [x2, y2], [x2, y1]])
        aux = p1
        p1 = p2
        p2 =aux
    elif((x2>=x1) & (y2<=y1)):
        p3 = np.array([x1, y2])
        contours = np.array([[x1, y1], [x2, y2], [x1, y2]])
    else:
        x3 = int((x1+x2)/2)
        y3 = int((y1+y2)/2)
        p3 = np.array([x3, y3])
        contours = np.array([[x1, y1], [x2, y2], [x3, y3]])
    
    l1 = np.linalg.norm(p2 - p3)
    l2 = np.linalg.norm(p1 - p3)
    l3 = np.linalg.norm(p1 - p2)
    
    try:
        #Calcula el ángulo
        angle = degrees(acos((l1**2 + l3**2 - l2**2) / (2 * l1 * l3)))
        #print(angle)
    except:
        angle = 0
    
    #Compara si el ángulo es nulo
    if np.isnan(angle):
        angle = 0
    
    return angle, p3, contours

def calcularDistancia(a, b):
    x1 = int(results.pose_landmarks.landmark[a].x * width)
    y1 = int(results.pose_landmarks.landmark[a].y * height)
    
    x2 = int(results.pose_landmarks.landmark[b].x * width)
    y2 = int(results.pose_landmarks.landmark[b].y * height)
    
    try:
        l = np.sqrt(((x2-x1)**2)+((y2-y1)**2))
    except:
        l=0
    
    return l

def calcularRitmo(ciclo_tiempo):
    return int(35.01389+(147.38751/(1+(ciclo_tiempo/1.697507)**3.211194)))

def calcularRitmoAjuste(ciclo_tiempo):
    return int((188.428469573685655/((1+((ciclo_tiempo/0.7947621576650942)**102.47288962956647))**0.008204379522496913))-5.759747635996895)

def calcularAltura(a):
    return int(results.pose_landmarks.landmark[a].y * height)

def calcularAncho(a):
    return int(results.pose_landmarks.landmark[a].x * width)

#Función para graficar la altura de la muñeca por tanto la frecuencia de palada
def graficar_paladas(pts_listx_mun_izq, line_izq, pts_listx_mun_der, line_der, height):
    global figure
    pts = np.linspace(0, 3, 120)
    if (line_izq == [])&(line_der == []):
        plt.style.use("ggplot")
        plt.ion()
        figure, ax = plt.subplots()
        ax.plot(pts, pts_listx_mun_izq, color='green', linewidth=2, label='IZQUIERDA')
        ax.plot(pts, pts_listx_mun_der, color='red', linewidth=2, label='DERECHA')
        plt.ylim(0, height)
        plt.xlim(0, 4)
        plt.ylabel("Altura\nde Paladas", fontsize=18)
        ax.set_facecolor("white")
        ax.grid(True, color = 'gray', linestyle = 'dashed', alpha = 0.6)
        ax.legend()        
    else:
        line_izq.set_ydata(pts_listx_mun_izq)
        line_der.set_ydata(pts_listx_mun_der)
        figure.canvas.draw()
        figure.canvas.flush_events()
    return line_izq, line_der

#Función para calcular los ángulos
def angleCalculate(a, b, c):
    x1 = int(results.pose_landmarks.landmark[a].x * width)
    y1 = int(results.pose_landmarks.landmark[a].y * height)
    
    x2 = int(results.pose_landmarks.landmark[b].x * width)
    y2 = int(results.pose_landmarks.landmark[b].y * height)
    
    x3 = int(results.pose_landmarks.landmark[c].x * width)
    y3 = int(results.pose_landmarks.landmark[c].y * height)
        
    p1 = np.array([x1, y1])
    p2 = np.array([x2, y2])
    p3 = np.array([x3, y3])
    
    l1 = np.linalg.norm(p2 - p3)
    l2 = np.linalg.norm(p1 - p3)
    l3 = np.linalg.norm(p1 - p2)
    
    contours = np.array([[x1, y1], [x2, y2], [x3, y3]])
    
    try:
        #Calcula el ángulo
        angle = degrees(acos((l1**2 + l3**2 - l2**2) / (2 * l1 * l3)))
        #print(angle)
    except:
        angle = 0
    
    #Compara si el ángulo es nulo
    if np.isnan(angle):
        angle = 0
    
    # Retorna los valores
    return angle, x2, y2, contours
    
#Objetos de MediaPipe
mp_drawing = mp.solutions.drawing_utils
mp_pose = mp.solutions.pose

#Carga del video mediante ruta del archivo
ruta = "aimee_boat.mp4"
#ruta = 0
cap = cv2.VideoCapture(ruta)
fps = cap.get(cv2.CAP_PROP_FPS)
#metadata = 30
metadata = iio.immeta(ruta, exclude_applied=False)

#Contadores
i, cont_paladas, cont_frames, cont_graf, ritmo_paladas = 0, 0, 0, 0, 0
time_ciclo_paladas = 0.0
cont_phase_aerial, cont_phase_water, prom_phase_aerial, prom_phase_water, porc_phase_aerial, porc_phase_water, token_phase = 0, 0, 0, 0, 0, 0, 0
ritmo_paladas_ajuste = 0
e = np.exp(1)

#Listas para guardar valores para DataFrame
list_angle_rod_izq=[]
list_angle_rod_der=[]
list_angle_cod_izq=[]
list_angle_cod_der=[]
list_angle_axi_izq=[]
list_angle_axi_der=[]

list_head_alt=[]
list_cad_izq=[]
list_mun_izq=[]
list_cad_der=[]
list_mun_der=[]
list_mun_izq_ancho=[]
list_mun_der_ancho=[]
list_hom_izq_ancho=[]
list_hom_der_ancho=[]

list_hombro_angle=[]
list_hombro_dist=[]
list_ciclo_palada=[]
list_stroke_rate=[]
list_phases_segmentation=[]
list_phase_aerial_time=[]
list_phase_water_time=[]
list_rotation_angle=[]
list_hand_paddle=[]

#Listas para la gráfica
line_izq = []
pts_listx_mun_izq = deque(maxlen=120)
line_der = []
pts_listx_mun_der = deque(maxlen=120)

#Token para contar paladas
token_izq, token_der = False, False
token_hand = "LEFT"
list_hand_paddle.append('LEFT')
aux_hand = ''
aux_angle = 0
phase=""

with mp_pose.Pose(
    static_image_mode=False, enable_segmentation=True) as pose:

    while True:
        ret, frame = cap.read()
        if ret == False:
            break
        
        # Si presiona la tecla s se aplica un delay en la ejecución de los frames
        if cv2.waitKey(1) & 0xFF == ord('s'):
            time.sleep(0.2)
            
        #time.sleep(0.3)
        #Redimensionar el tamaño del video
        proporcion = 1/2
        alto = int( proporcion * frame.shape[0])
        ancho = int( proporcion * frame.shape[1])
        frame = cv2.resize(frame, (ancho, alto), interpolation = cv2.INTER_NEAREST)
        
        #cv2.imshow("Video Original", frame)
        #frame negro para pegar las 4 vistas
        all_4_views = np.zeros(((2*alto), (2*ancho)), dtype="uint8")
        all_4_views = cv2.cvtColor(all_4_views,cv2.COLOR_GRAY2RGB)
        
        #Crear fondo oscuro del skeleton
        black_brackground = np.zeros((frame.shape[0], frame.shape[1]), dtype="uint8")
        black_brackground = cv2.cvtColor(black_brackground,cv2.COLOR_GRAY2RGB)
        black_brackground[:, :] = (65,65,65)
        
        #frame = cv2.flip(frame, 1)
        height, width, _ = frame.shape
        frame_rgb = cv2.cvtColor(frame, cv2.COLOR_BGR2RGB)
        results = pose.process(frame_rgb)
           
        if results.pose_landmarks is not None:
            #landmarks del video original
            mp_drawing.draw_landmarks(
                frame, results.pose_landmarks, mp_pose.POSE_CONNECTIONS,
                mp_drawing.DrawingSpec(color=(0, 255, 0), thickness=1, circle_radius=1),
                mp_drawing.DrawingSpec(color=(255, 255, 255), thickness=3))
            
            #landmarks del skeleton con fondo oscuro
            mp_drawing.draw_landmarks(
                black_brackground, results.pose_landmarks, mp_pose.POSE_CONNECTIONS,
                mp_drawing.DrawingSpec(color=(0, 255, 0), thickness=2, circle_radius=2),
                mp_drawing.DrawingSpec(color=(255, 255, 255), thickness=2))
            
            #Cálculo del ángulo de la rodilla izquierda, dibujo del triángulo, escritura del valor del ángulo
            angle_rod_izq,x2,y2,contours = angleCalculate(23,25,27)
            cv2.fillPoly(black_brackground, pts=[contours], color=(254, 112, 92))
            cv2.putText(black_brackground, str(int(angle_rod_izq)), (x2 + 20, y2), 1, 1, (0, 255, 0), 1)
            
            #Cálculo del ángulo de la rodilla derecha, dibujo del triángulo, escritura del valor del ángulo
            angle_rod_der,x2,y2,contours = angleCalculate(24,26,28)
            cv2.fillPoly(black_brackground, pts=[contours], color=(254, 112, 92))
            cv2.putText(black_brackground, str(int(angle_rod_der)), (x2 - 40, y2), 1, 1, (0, 255, 0), 1)
            
            #Cálculo del ángulo del codo izquierdo, dibujo del triángulo, escritura del valor del ángulo
            angle_cod_izq,x2,y2,contours = angleCalculate(15,13,11)
            cv2.fillPoly(black_brackground, pts=[contours], color=(254, 112, 254))
            cv2.putText(black_brackground, str(int(angle_cod_izq)), (x2 + 20, y2), 1, 1, (0, 255, 0), 1)
            
            #Cálculo del ángulo del codo derecho, dibujo del triángulo, escritura del valor del ángulo
            angle_cod_der,x2,y2,contours = angleCalculate(16,14,12)
            cv2.fillPoly(black_brackground, pts=[contours], color=(254, 112, 254))
            cv2.putText(black_brackground, str(int(angle_cod_der)), (x2 - 40, y2), 1, 1, (0, 255, 0), 1)
            
            #Cálculo del ángulo de la axila izquierda, dibujo del triángulo, escritura del valor del ángulo
            angle_axi_izq,x2,y2,contours = angleCalculate(23,11,13)
            cv2.fillPoly(black_brackground, pts=[contours], color=(172, 244, 242))
            cv2.putText(black_brackground, str(int(angle_axi_izq)), (x2 + 10, y2-10), 1, 1, (0, 255, 0), 1)
            
            #Cálculo del ángulo de la axila derecha, dibujo del triángulo, escritura del valor del ángulo
            angle_axi_der,x2,y2,contours = angleCalculate(24,12,14)
            cv2.fillPoly(black_brackground, pts=[contours], color=(172, 244, 242))
            cv2.putText(black_brackground, str(int(angle_axi_der)), (x2 -20 , y2-10), 1, 1, (0, 255, 0), 1)
            
            #Guardando valores de los ángulos
            list_angle_rod_izq.append(angle_rod_izq)
            list_angle_rod_der.append(angle_rod_der)
            list_angle_cod_izq.append(angle_cod_izq)
            list_angle_cod_der.append(angle_cod_der)
            list_angle_axi_izq.append(angle_axi_izq)
            list_angle_axi_der.append(angle_axi_der)
            
            #Análisis de la Rotación
            #Calculando distancia entre hombros
            hombro_dist = calcularDistancia(12, 11)
            hombro_angle, p3, contoursp3 = calcularPuntoAngle(12, 11)
            if(aux_hand == token_hand):
                if(aux_angle < hombro_angle):
                    aux_angle = hombro_angle
            else:
                aux_hand = token_hand
                list_rotation_angle.append(aux_angle)
                aux_angle = 0
            
            
            #Calculando alturas y anchos
            hom_izq = height - calcularAltura(11)
            cad_izq = height - calcularAltura(23)
            aux_palada_izq = (hom_izq - cad_izq)/2 + cad_izq
            
            hom_der = height - calcularAltura(12)
            cad_der = height - calcularAltura(24)
            aux_palada_der = (hom_der - cad_der)/2 + cad_der
            
            mun_izq = height - calcularAltura(15)
            mun_izq_ancho = calcularAncho(15)
            hom_izq_ancho = calcularAncho(11)
            mun_der = height - calcularAltura(16)
            mun_der_ancho = calcularAncho(16)
            hom_der_ancho = calcularAncho(12)
            
            head_alt = height - calcularAltura(0)
            
            #Agregando valores a las listas
            list_cad_izq.append(cad_izq)
            list_cad_der.append(cad_der)
            list_mun_izq.append(mun_izq)
            list_mun_der.append(mun_der)
            list_mun_izq_ancho.append(mun_izq_ancho)
            list_mun_der_ancho.append(mun_der_ancho)
            list_hom_izq_ancho.append(hom_izq_ancho)
            list_hom_der_ancho.append(hom_der_ancho)
            list_head_alt.append(head_alt)
            list_hombro_dist.append(hombro_dist)
            list_hombro_angle.append(hombro_angle)
            
            # Contar paladas en referencia a las alturas, los tokens y los fps
            cont_frames += 1
            if (mun_izq <= aux_palada_izq) & (token_izq==False) & (token_hand=="LEFT") & (mun_der_ancho>hom_der_ancho):
                cont_paladas += 1
                token_izq = True
                token_hand = "RIGHT"
                list_hand_paddle.append(token_hand)
                if (cont_paladas%3==0):
                    time_ciclo_paladas = cont_frames/fps
                    #print(time_ciclo_paladas)
                    ritmo_paladas = calcularRitmo(time_ciclo_paladas)
                    ritmo_paladas_ajuste = calcularRitmoAjuste(time_ciclo_paladas)
                    list_stroke_rate.append(ritmo_paladas_ajuste)
                    list_ciclo_palada.append(time_ciclo_paladas)
                    cont_frames=0
                    #mp_drawing.plot_landmarks(results.pose_world_landmarks, mp_pose.POSE_CONNECTIONS)
            elif (mun_izq >= aux_palada_izq) & (token_izq==True):
                token_izq = False
            if (mun_der <= aux_palada_der) & (token_der==False) & (token_hand=="RIGHT") & (mun_izq_ancho<hom_izq_ancho):
                cont_paladas += 1
                token_der = True
                token_hand = "LEFT"
                list_hand_paddle.append(token_hand)
                if (cont_paladas%3==0):
                    time_ciclo_paladas = cont_frames/fps
                    #print(time_ciclo_paladas)
                    ritmo_paladas = calcularRitmo(time_ciclo_paladas)
                    ritmo_paladas_ajuste = calcularRitmoAjuste(time_ciclo_paladas)
                    list_stroke_rate.append(ritmo_paladas_ajuste)
                    list_ciclo_palada.append(time_ciclo_paladas)
                    cont_frames=0
                    #mp_drawing.plot_landmarks(results.pose_world_landmarks, mp_pose.POSE_CONNECTIONS)
            elif (mun_der >= aux_palada_der) & (token_der==True):
                token_der = False
                
            # Segmentación de las fases de la palada con String, de acuerdo a la altura de la mano
            # También se calcula el promedio de tiempo de la fase aérea y en agua
            if ((mun_izq<=((hom_izq - cad_izq)/2 + cad_izq)) & ((mun_izq>((hom_izq - cad_izq)/3 + cad_izq))) & ((token_phase==0)or(token_phase==4))) or ((mun_der<=((hom_der - cad_der)/2 + cad_der)) & ((mun_der>((hom_der - cad_der)/3 + cad_der))) & ((token_phase==0)or(token_phase==4))):
                phase = "ENTRY"
                token_phase = 1
                if(len(list_phase_aerial_time)>0):
                    prom_phase_aerial=round((sum(list_phase_aerial_time)/len(list_phase_aerial_time)),2)
                    porc_phase_aerial=round(((list_phase_aerial_time[-1]*100)/(list_phase_aerial_time[-1]+list_phase_water_time[-1])),2)
            elif ((mun_izq<((hom_izq - cad_izq)/3 + cad_izq)) & (token_phase==1)) or ((mun_der<((hom_der - cad_der)/3 + cad_der)) & (token_phase==1)):
                phase = "CATCH-PULL"
                token_phase = 2
            elif ((mun_izq>=((hom_izq - cad_izq)/3 + cad_izq)) & ((mun_izq<((hom_izq - cad_izq)/2 + cad_izq))) & (token_phase==2)) or ((mun_der>=((hom_der - cad_der)/3 + cad_der)) & ((mun_der<((hom_der - cad_der)/2 + cad_der))) & (token_phase==2)):
                phase = "EXIT"
                token_phase = 3
            elif (mun_izq>=((hom_izq - cad_izq)/2 + cad_izq)) & (token_phase==3) & (mun_der>=((hom_der - cad_der)/2 + cad_der)):
                phase = "AERIAL"
                token_phase = 4
                if(len(list_phase_water_time)>0):
                    prom_phase_water=round((sum(list_phase_water_time)/len(list_phase_water_time)),2)
                    porc_phase_water=round(((list_phase_water_time[-1]*100)/(list_phase_aerial_time[-1]+list_phase_water_time[-1])),2)
            list_phases_segmentation.append(phase)
            
            # Se forman las listas con los tiempos de la fase aérea y en agua
            if((token_phase==1)or(token_phase==2)or(token_phase==3)):
                cont_phase_water+=1
                if(cont_phase_aerial!=0):
                    list_phase_aerial_time.append(round(cont_phase_aerial/fps, 2))
                cont_phase_aerial=0
            elif(token_phase==4):
                cont_phase_aerial+=1
                if(cont_phase_water!=0):
                    list_phase_water_time.append(round(cont_phase_water/fps, 2))
                cont_phase_water=0
            
            # Segementación de la imagen para crear la máscara de la figura de la persona
            if results.segmentation_mask is not None:
                segmentation_mask_model = cv2.cvtColor(results.segmentation_mask, cv2.COLOR_GRAY2RGB)
                segmentation_mask_model = segmentation_mask_model * 255
                segmentation_mask_model = segmentation_mask_model.astype(np.uint8)
                segmentation_mask_not = cv2.bitwise_not(segmentation_mask_model)
                segmentation_mask_video = cv2.bitwise_and(frame, segmentation_mask_model)
                segmentation_mask_video = cv2.addWeighted(segmentation_mask_video, 1, black_brackground, 0.8, 0)
                
                #landmarks de la segmentación de la máscara
                mp_drawing.draw_landmarks(
                    segmentation_mask_not, results.pose_landmarks, mp_pose.POSE_CONNECTIONS,
                    mp_drawing.DrawingSpec(color=(0, 255, 0), thickness=2, circle_radius=2),
                    mp_drawing.DrawingSpec(color=(255, 255, 255), thickness=2))

                #landmarks de la segmentación del video
                mp_drawing.draw_landmarks(
                    segmentation_mask_video, results.pose_landmarks, mp_pose.POSE_CONNECTIONS,
                    mp_drawing.DrawingSpec(color=(0, 255, 0), thickness=1, circle_radius=1),
                    mp_drawing.DrawingSpec(color=(255, 255, 255), thickness=1))
                
                #Ejecución de la imágenes segementadas   
                #cv2.imshow("Segmentation mask", segmentation_mask_not)
                #cv2.imshow("Segmentation video", segmentation_mask_video)
                all_4_views[alto:(2*alto), 0:ancho] = segmentation_mask_not
                all_4_views[alto:(2*alto), ancho:(2*ancho)] = segmentation_mask_video
            
            # Mostrar el tiempo en la fase aérea y en agua
            cv2.rectangle(frame, (15, alto-10), (130, alto-60), (65,65,65), -1)
            if list_phase_aerial_time!=[]:
                cv2.putText(frame, 'APT: ' + str(list_phase_aerial_time[-1]) +'s', (25, alto-40), 1, 1, (255, 255, 255), 1)
            if list_phase_water_time!=[]:
                cv2.putText(frame, 'WPT: ' + str(list_phase_water_time[-1]) +'s', (25, alto-20), 1, 1, (255, 255, 255), 1)
            
            # Mostrar el Porcentaje que representan las fases aéreas y en agua
            cv2.rectangle(frame, (int(ancho/2)-60, alto-10), (int(ancho/2)+60, alto-60), (65,65,65), -1)
            cv2.putText(frame, 'PAT: ' + str(porc_phase_aerial) +'%', (int(ancho/2)-50, alto-40), 1, 1, (255, 255, 255), 1)
            cv2.putText(frame, 'PWT: ' + str(porc_phase_water) +'%', (int(ancho/2)-50, alto-20), 1, 1, (255, 255, 255), 1)
            
            # Mostrar el tiempo promedio en la fase aérea y en agua
            cv2.rectangle(frame, (ancho-130, alto-10), (ancho-15, alto-60), (65,65,65), -1)
            cv2.putText(frame, 'AAT: ' + str(prom_phase_aerial) +'s', (ancho-120, alto-40), 1, 1, (255, 255, 255), 1)
            cv2.putText(frame, 'AWT: ' + str(prom_phase_water) +'s', (ancho-120, alto-20), 1, 1, (255, 255, 255), 1)
            
            # Mostrar número de paladas en frame
            cv2.rectangle(frame, (15, 15), (200, 40), (65,65,65), -1)
            cv2.putText(frame, 'Strokes Count: ' + str(cont_paladas), (30, 33), 1, 1, (255, 255, 255), 1)
            if(cont_paladas > 3):
                # Mostrar el ritmo de paladas en frame
                cv2.rectangle(frame, (15, 40), (200, 60), (65,65,65), -1)
                #cv2.putText(frame, 'SPM: ' + str(ritmo_paladas), (30, 53), 1, 1, (255, 255, 255), 1)
                cv2.putText(frame, 'SPM: ' + str(ritmo_paladas_ajuste), (30, 53), 1, 1, (255, 255, 255), 1)
            
            cv2.rectangle(frame, (ancho-200, 15), (ancho-15, 60), (65,65,65), -1)
            #cv2.putText(frame, 'Shoulder Dist: ' + str(round(hombro_dist,2)), (ancho-190, 33), 1, 1, (255, 255, 255), 2)
            if((cont_paladas!=0) & (token_hand=='LEFT')):
                cv2.putText(frame, 'Stroke Side: RIGHT', (ancho-190, 33), 1, 1, (255, 255, 255), 1)
            elif(token_hand=='RIGHT'):
                cv2.putText(frame, 'Stroke Side: LEFT', (ancho-190, 33), 1, 1, (255, 255, 255), 1)
            cv2.putText(frame, 'Rotation Ang: ' + str(round(aux_angle,2)), (ancho-190, 53), 1, 1, (255, 255, 255), 1)
            cv2.circle(frame, p3, 5, (0, 0, 255), 5)
            cv2.fillPoly(frame, pts=[contoursp3], color=(255, 0, 0))
            
        # Visualización
        all_4_views[0:alto, 0:ancho] = frame
        all_4_views[0:alto, ancho:(2*ancho)] = black_brackground
        cv2.imshow("All Views", all_4_views)
        #cv2.imwrite('results/frames_save/marcus_boat/MARCUS_%010d.jpg' % i, all_4_views)
        i+=1
        
        elif cv2.waitKey(1) & 0xFF == ord('q'):
            break

cap.release()
cv2.destroyAllWindows()
